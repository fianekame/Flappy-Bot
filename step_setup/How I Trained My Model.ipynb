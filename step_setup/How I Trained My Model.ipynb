{
 "cells": [
  {
   "cell_type": "markdown",
   "metadata": {},
   "source": [
    "## Step 1 - Memanggil Beberapa Library Dan Module Yang Dibutuhkan\n"
   ]
  },
  {
   "cell_type": "code",
   "execution_count": 15,
   "metadata": {},
   "outputs": [],
   "source": [
    "import numpy as np\n",
    "import keras\n",
    "from keras.models import model_from_json, Sequential\n",
    "from keras.layers.core import Dense, Dropout, Activation, Flatten\n",
    "from keras.layers.convolutional import Convolution2D, MaxPooling2D\n",
    "from keras.optimizers import SGD , Adam\n",
    "from sklearn.model_selection import train_test_split\n",
    "from keras.utils import to_categorical"
   ]
  },
  {
   "cell_type": "markdown",
   "metadata": {},
   "source": [
    "**Untuk Pengerjaan Pada Sistem Operasi Berbasis Linux Hal In Perlu Dilakukan**"
   ]
  },
  {
   "cell_type": "code",
   "execution_count": 2,
   "metadata": {},
   "outputs": [],
   "source": [
    "_ROOTPATH = \"/home/galgadot/Documents/Skripsi/FlappyBot/\"\n",
    "_LEARNING_RATE = 1e-4"
   ]
  },
  {
   "cell_type": "markdown",
   "metadata": {},
   "source": [
    "##### Step Info!\n",
    "\n",
    "  - Menyiapkan sebuah fungsi yang mengembalikan sebuah model berdasarkan arsitektur yang akan digunakan.\n",
    "  - Model kembalian sudah memiliki struktur dan tinggal digunakan untuk compile serta fit (dalam tahap pelatihan)"
   ]
  },
  {
   "cell_type": "code",
   "execution_count": 3,
   "metadata": {},
   "outputs": [],
   "source": [
    "\"\"\" Build Model \"\"\"\n",
    "\n",
    "def createModel():\n",
    "    print(\"Now we build the model\")\n",
    "    model = Sequential()\n",
    "    model.add(Convolution2D(32, 8, 8, subsample=(4, 4), border_mode='same',input_shape=(80,80,4)))  #80*80*4\n",
    "    model.add(Activation('relu'))\n",
    "    model.add(Convolution2D(64, 4, 4, subsample=(2, 2), border_mode='same'))\n",
    "    model.add(Activation('relu'))\n",
    "    model.add(Convolution2D(64, 3, 3, subsample=(1, 1), border_mode='same'))\n",
    "    model.add(Activation('relu'))\n",
    "    model.add(Flatten())\n",
    "    model.add(Dense(512))\n",
    "    model.add(Activation('relu'))\n",
    "    model.add(Dense(2))\n",
    "    adam = Adam(lr=_LEARNING_RATE)\n",
    "    model.compile(loss='mse',optimizer=adam, metrics=['accuracy'])\n",
    "    print(\"We finish building the model\")\n",
    "    return model\n"
   ]
  },
  {
   "cell_type": "markdown",
   "metadata": {},
   "source": [
    "##### Step Info!\n",
    "\n",
    "  - Menyiapkan bebrapa variable aygn digunakan, batch_size, jumlah epoch untuk pelatihan, serta jumlah output tindakan (class), menyiapkan varian jumlah data untuk pelatihan pada DataSize\n",
    "  - Memanggil data X dan data Y ( X adalah fitur, dan Y adalah target (class))"
   ]
  },
  {
   "cell_type": "code",
   "execution_count": 16,
   "metadata": {},
   "outputs": [
    {
     "name": "stdout",
     "output_type": "stream",
     "text": [
      "(1000, 80, 80, 4)\n",
      "(1000, 2)\n"
     ]
    }
   ],
   "source": [
    "\"\"\" Initializing Data \"\"\"\n",
    "\n",
    "batch_size = 32\n",
    "epochs = 20\n",
    "num_classes = 2\n",
    "DataSize = \"1000\"\n",
    "data_x = np.load(_ROOTPATH+'initial_data/Data '+DataSize+'/DataX.npy')\n",
    "data_y = np.load(_ROOTPATH+'initial_data/Data '+DataSize+'/DataY.npy')\n",
    "\n",
    "train_x = data_x\n",
    "print(train_x.shape)\n",
    "train_y = data_y\n",
    "train_y = to_categorical(train_y)\n",
    "print(train_y.shape)\n",
    "# train_x = train_x.astype('float32')\n",
    "# train_x = train_x / 255.\n",
    "\n"
   ]
  },
  {
   "cell_type": "markdown",
   "metadata": {},
   "source": [
    "**Membagi data untuk training dan validasi, vaidasi dibutuhkan untuk melihat hasil evaluasi model ditiap epoch saat pelatihan**"
   ]
  },
  {
   "cell_type": "code",
   "execution_count": 17,
   "metadata": {},
   "outputs": [
    {
     "data": {
      "text/plain": [
       "((800, 80, 80, 4), (200, 80, 80, 4), (800, 2), (200, 2))"
      ]
     },
     "execution_count": 17,
     "metadata": {},
     "output_type": "execute_result"
    }
   ],
   "source": [
    "\"\"\" Data For Train \"\"\"\n",
    "train_x,valid_x,train_label,valid_label = train_test_split(train_x, train_y, test_size=0.2, random_state=13)\n",
    "train_x.shape,valid_x.shape,train_label.shape,valid_label.shape"
   ]
  },
  {
   "cell_type": "markdown",
   "metadata": {},
   "source": [
    "##### Step Info!\n",
    "  - Memanggil fungsi pembuat model cnn yang telah dibuat diatas tadi\n",
    "  - Melihat detail cnn arsitektur yang dibut dengna memanggil fungsi **summary**\n",
    "  - lalu melakuakn training sesuai ketentuan keras, dengna menggunakn _**model.fit(x,y,batch,epoch,options)**_\n",
    "  "
   ]
  },
  {
   "cell_type": "code",
   "execution_count": 18,
   "metadata": {},
   "outputs": [
    {
     "name": "stdout",
     "output_type": "stream",
     "text": [
      "Now we build the model\n",
      "WARNING:tensorflow:From /usr/lib/python3.7/site-packages/tensorflow/python/framework/op_def_library.py:263: colocate_with (from tensorflow.python.framework.ops) is deprecated and will be removed in a future version.\n",
      "Instructions for updating:\n",
      "Colocations handled automatically by placer.\n"
     ]
    },
    {
     "name": "stderr",
     "output_type": "stream",
     "text": [
      "/usr/lib/python3.7/site-packages/ipykernel_launcher.py:6: UserWarning: Update your `Conv2D` call to the Keras 2 API: `Conv2D(32, (8, 8), input_shape=(80, 80, 4..., strides=(4, 4), padding=\"same\")`\n",
      "  \n",
      "/usr/lib/python3.7/site-packages/ipykernel_launcher.py:8: UserWarning: Update your `Conv2D` call to the Keras 2 API: `Conv2D(64, (4, 4), strides=(2, 2), padding=\"same\")`\n",
      "  \n",
      "/usr/lib/python3.7/site-packages/ipykernel_launcher.py:10: UserWarning: Update your `Conv2D` call to the Keras 2 API: `Conv2D(64, (3, 3), strides=(1, 1), padding=\"same\")`\n",
      "  # Remove the CWD from sys.path while we load stuff.\n"
     ]
    },
    {
     "name": "stdout",
     "output_type": "stream",
     "text": [
      "We finish building the model\n",
      "_________________________________________________________________\n",
      "Layer (type)                 Output Shape              Param #   \n",
      "=================================================================\n",
      "conv2d_1 (Conv2D)            (None, 20, 20, 32)        8224      \n",
      "_________________________________________________________________\n",
      "activation_1 (Activation)    (None, 20, 20, 32)        0         \n",
      "_________________________________________________________________\n",
      "conv2d_2 (Conv2D)            (None, 10, 10, 64)        32832     \n",
      "_________________________________________________________________\n",
      "activation_2 (Activation)    (None, 10, 10, 64)        0         \n",
      "_________________________________________________________________\n",
      "conv2d_3 (Conv2D)            (None, 10, 10, 64)        36928     \n",
      "_________________________________________________________________\n",
      "activation_3 (Activation)    (None, 10, 10, 64)        0         \n",
      "_________________________________________________________________\n",
      "flatten_1 (Flatten)          (None, 6400)              0         \n",
      "_________________________________________________________________\n",
      "dense_1 (Dense)              (None, 512)               3277312   \n",
      "_________________________________________________________________\n",
      "activation_4 (Activation)    (None, 512)               0         \n",
      "_________________________________________________________________\n",
      "dense_2 (Dense)              (None, 2)                 1026      \n",
      "=================================================================\n",
      "Total params: 3,356,322\n",
      "Trainable params: 3,356,322\n",
      "Non-trainable params: 0\n",
      "_________________________________________________________________\n"
     ]
    }
   ],
   "source": [
    "\"\"\" Create Model And View Summary \"\"\"\n",
    "flappy_model = createModel()\n",
    "flappy_model.summary()"
   ]
  },
  {
   "cell_type": "code",
   "execution_count": null,
   "metadata": {},
   "outputs": [],
   "source": [
    "\"\"\" Starting Training Model \"\"\"\n",
    "flappy_train = flappy_model.fit(train_x, train_label, batch_size=batch_size,epochs=epochs,verbose=1,validation_data=(valid_x, valid_label))\n"
   ]
  },
  {
   "cell_type": "markdown",
   "metadata": {},
   "source": [
    "##### Step Info!\n",
    " - Setelah melakuakn proses pelatihan diatas\n",
    " - Flappy model akan menyimpan struktur arsitekturnya dalam bentuk json. hal ini akan membantu dalam proses pengujian tidak perlu lagi membuat model dalam arsitektur yang sama.\n",
    " - untuk bobot dari model sendiri akan disimpan dalam bentuk .h5 atau h5py\n",
    "  "
   ]
  },
  {
   "cell_type": "code",
   "execution_count": null,
   "metadata": {},
   "outputs": [],
   "source": [
    "\"\"\" Save Model By Name Using JSON \"\"\"\n",
    "\"\"\" Serialize model to JSON \"\"\"\n",
    "model_json = flappy_model.to_json()\n",
    "with open(\"saved_networks/saved_\"+DataSize+\"model.json\", \"w\") as json_file:\n",
    "    json_file.write(model_json)\n",
    "\"\"\" serialize weights to HDF5 \"\"\"\n",
    "flappy_model.save_weights(\"saved_networks/saved_\"+DataSize+\"model.h5\")\n",
    "print(\"Saved model to disk\")"
   ]
  }
 ],
 "metadata": {
  "kernelspec": {
   "display_name": "Python 3",
   "language": "python",
   "name": "python3"
  },
  "language_info": {
   "codemirror_mode": {
    "name": "ipython",
    "version": 3
   },
   "file_extension": ".py",
   "mimetype": "text/x-python",
   "name": "python",
   "nbconvert_exporter": "python",
   "pygments_lexer": "ipython3",
   "version": "3.7.3"
  }
 },
 "nbformat": 4,
 "nbformat_minor": 2
}
