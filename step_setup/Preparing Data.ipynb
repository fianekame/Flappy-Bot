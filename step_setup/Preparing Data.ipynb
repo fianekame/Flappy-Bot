{
 "cells": [
  {
   "cell_type": "markdown",
   "metadata": {},
   "source": [
    "## Step 1 - Preparing Data \n"
   ]
  },
  {
   "cell_type": "markdown",
   "metadata": {},
   "source": [
    "##### Step Info!\n",
    "\n",
    "  - Pada Step Ini Adalah Penyiapan Data Untuk Disimpan Dalam Bentuk Cell (Array)\n",
    "  - Hal Ini Dilakukan Untuk Mempermudah Pengolahan Data Pada Step Selanjutnya"
   ]
  },
  {
   "cell_type": "code",
   "execution_count": 1,
   "metadata": {},
   "outputs": [
    {
     "name": "stderr",
     "output_type": "stream",
     "text": [
      "Using TensorFlow backend.\n"
     ]
    }
   ],
   "source": [
    "\"\"\" Importing Lib Yang Dibutuhkan \"\"\"\n",
    "\n",
    "import cv2\n",
    "import numpy as np\n",
    "from matplotlib import pyplot as plt\n",
    "from keras.utils import to_categorical"
   ]
  },
  {
   "cell_type": "markdown",
   "metadata": {},
   "source": [
    "##### Step Info!\n",
    "\n",
    "  - Menyiapkan Target Dari Target Data (Y Data)\n",
    "  - **ActionFor5000Data.npy** berada pada folder initial data, file ini memiliki struktur array 1 dimensi yang merepresentasikan tiap target dari file citra awal yang ada pada folder **logs_bird**\n",
    "  - Contoh DataTarget = [0,1,0,0] yang kemudian di proses dengan **One_Hot_Encoding** untuk menghasilkan DataOneHot = [[1,0],[0,1],[1,0],[1,0]]"
   ]
  },
  {
   "cell_type": "code",
   "execution_count": 4,
   "metadata": {},
   "outputs": [
    {
     "name": "stdout",
     "output_type": "stream",
     "text": [
      "Original label:\n",
      " [0 1 1 0]\n",
      "After conversion to one-hot:\n",
      " [[1. 0.]\n",
      " [0. 1.]\n",
      " [0. 1.]\n",
      " [1. 0.]]\n"
     ]
    },
    {
     "data": {
      "text/plain": [
       "' Akhir Konversi '"
      ]
     },
     "execution_count": 4,
     "metadata": {},
     "output_type": "execute_result"
    }
   ],
   "source": [
    "\"\"\" Encoding Dan Simpan File Untuk Action One Hot Baru \"\"\"\n",
    "\n",
    "action = np.load(\"../initial_data/ActionFor5000Data.npy\")\n",
    "actonehot = to_categorical(action)\n",
    "np.save(\"../initial_data/DataY\",np.array(actonehot))\n",
    "\n",
    "print('Original label:\\n', action[5:9])\n",
    "print('After conversion to one-hot:\\n', actonehot[5:9])\n",
    "\n",
    "\"\"\" Akhir Konversi \"\"\"\n"
   ]
  },
  {
   "cell_type": "markdown",
   "metadata": {},
   "source": [
    "##### Step Info!\n",
    "\n",
    "  - Membuat Template Staking Dari Gambar Sample Pada Folder\n",
    "  - Mengapa saya harus menumpuk 4 frame bersamaan? Ini adalah salah satu cara bagi model untuk dapat menyimpulkan informasi posisi burung."
   ]
  },
  {
   "cell_type": "code",
   "execution_count": 24,
   "metadata": {},
   "outputs": [
    {
     "name": "stdout",
     "output_type": "stream",
     "text": [
      "Size Before Staking:\n",
      " (80, 80)\n",
      "Size After  Staking :\n",
      " (80, 80, 4)\n"
     ]
    },
    {
     "data": {
      "text/plain": [
       "' End For Sample Staking '"
      ]
     },
     "execution_count": 24,
     "metadata": {},
     "output_type": "execute_result"
    }
   ],
   "source": [
    "\"\"\" Get Sample For Staking \"\"\"\n",
    "\n",
    "samplefile = \"../logs_bird/sample.png\";\n",
    "x_t = cv2.imread(samplefile, cv2.IMREAD_COLOR)\n",
    "x_t = cv2.cvtColor(cv2.resize(x_t, (80, 80)), cv2.COLOR_BGR2GRAY)\n",
    "ret, x_t = cv2.threshold(x_t,1,255,cv2.THRESH_BINARY)\n",
    "s_t = np.stack((x_t, x_t, x_t, x_t), axis=2)\n",
    "\n",
    "print('Size Before Staking:\\n', x_t.shape)\n",
    "print('Size After  Staking :\\n', s_t.shape)\n",
    "\n",
    "\"\"\" End For Sample Staking \"\"\""
   ]
  },
  {
   "cell_type": "markdown",
   "metadata": {},
   "source": [
    "##### Step Info!\n",
    "\n",
    "  - Pertama-tama mengubah gambar warna menjadi skala abu-abu\n",
    "  - Memotong ukuran gambar menjadi 80x80 piksel\n",
    "  - Menumpuk 4 frame bersama sebelum diproses pada CNN"
   ]
  },
  {
   "cell_type": "code",
   "execution_count": 25,
   "metadata": {},
   "outputs": [
    {
     "data": {
      "text/plain": [
       "' End For Preparing Data '"
      ]
     },
     "execution_count": 25,
     "metadata": {},
     "output_type": "execute_result"
    }
   ],
   "source": [
    "\"\"\" Preparing Data \"\"\"\n",
    "\n",
    "DataX = []\n",
    "for i in range(5000):\n",
    "    foldername = \"../logs_bird/\";\n",
    "    filename = foldername+\"frame\"+str(i)+\".png\"\n",
    "    img = cv2.imread(str(filename), cv2.IMREAD_COLOR)\n",
    "    x_t1 = cv2.cvtColor(cv2.resize(img, (80, 80)), cv2.COLOR_BGR2GRAY)\n",
    "    ret, x_t1 = cv2.threshold(x_t1, 1, 255, cv2.THRESH_BINARY)\n",
    "    x_t1 = np.reshape(x_t1, (80, 80, 1))\n",
    "    s_t1 = np.append(x_t1, s_t[:, :, :3], axis=2)\n",
    "    \n",
    "    DataX.append(s_t1)\n",
    "np.save(\"../initial_data/DataX\",np.array(DataX))\n",
    "\n",
    "\n",
    "\"\"\" End For Preparing Data \"\"\""
   ]
  },
  {
   "cell_type": "markdown",
   "metadata": {},
   "source": [
    "##### Prosess Info!\n",
    "\n",
    "  - Pertama-tama mengubah gambar warna menjadi skala abu-abu\n",
    "  - Memotong ukuran gambar menjadi 80x80 piksel\n",
    "  - Menumpuk 4 frame bersama sebelum diproses pada CNN"
   ]
  },
  {
   "cell_type": "code",
   "execution_count": 26,
   "metadata": {},
   "outputs": [
    {
     "data": {
      "image/png": "[encoded data removed]",
      "text/plain": [
       "<Figure size 432x288 with 1 Axes>"
      ]
     },
     "metadata": {
      "needs_background": "light"
     },
     "output_type": "display_data"
    }
   ],
   "source": [
    "\"\"\" Mencoba Dengan Data Sample Terhakir \"\"\"\n",
    "foldername = \"../logs_bird/\";\n",
    "filename = foldername+\"frame4999.png\"\n",
    "img = cv2.imread(str(filename), cv2.IMREAD_COLOR)\n",
    "plt.imshow(img)\n",
    "plt.show()\n"
   ]
  },
  {
   "cell_type": "code",
   "execution_count": 27,
   "metadata": {},
   "outputs": [
    {
     "data": {
      "image/png": "[encoded data removed]",
      "text/plain": [
       "<Figure size 432x288 with 1 Axes>"
      ]
     },
     "metadata": {
      "needs_background": "light"
     },
     "output_type": "display_data"
    }
   ],
   "source": [
    "\"\"\" Mengubah gambar warna menjadi skala abu-abu Dan Croping jadi 80x80\"\"\"\n",
    "x_t1 = cv2.cvtColor(cv2.resize(img, (80, 80)), cv2.COLOR_BGR2GRAY)\n",
    "plt.imshow(x_t1)\n",
    "plt.show()"
   ]
  },
  {
   "cell_type": "code",
   "execution_count": 28,
   "metadata": {},
   "outputs": [
    {
     "data": {
      "image/png": "[encoded data removed]",
      "text/plain": [
       "<Figure size 432x288 with 1 Axes>"
      ]
     },
     "metadata": {
      "needs_background": "light"
     },
     "output_type": "display_data"
    }
   ],
   "source": [
    "\"\"\" Merubah Menjadi Biner Sebelum Proses Staking \"\"\"\n",
    "ret, x_t1 = cv2.threshold(x_t1, 1, 255, cv2.THRESH_BINARY)\n",
    "plt.imshow(x_t1)\n",
    "plt.show()"
   ]
  },
  {
   "cell_type": "code",
   "execution_count": 29,
   "metadata": {},
   "outputs": [
    {
     "data": {
      "image/png": "[encoded data removed]",
      "text/plain": [
       "<Figure size 432x288 with 1 Axes>"
      ]
     },
     "metadata": {
      "needs_background": "light"
     },
     "output_type": "display_data"
    }
   ],
   "source": [
    "\"\"\" Proses Staking 4 Frame \"\"\"\n",
    "x_t1 = np.reshape(x_t1, (80, 80, 1))\n",
    "s_t1 = np.append(x_t1, s_t[:, :, :3], axis=2)\n",
    "plt.imshow(s_t1)\n",
    "plt.show()"
   ]
  },
  {
   "cell_type": "code",
   "execution_count": null,
   "metadata": {},
   "outputs": [],
   "source": []
  },
  {
   "cell_type": "code",
   "execution_count": null,
   "metadata": {},
   "outputs": [],
   "source": []
  },
  {
   "cell_type": "code",
   "execution_count": null,
   "metadata": {},
   "outputs": [],
   "source": []
  },
  {
   "cell_type": "code",
   "execution_count": null,
   "metadata": {},
   "outputs": [],
   "source": []
  }
 ],
 "metadata": {
  "kernelspec": {
   "display_name": "Python 3",
   "language": "python",
   "name": "python3"
  },
  "language_info": {
   "codemirror_mode": {
    "name": "ipython",
    "version": 3
   },
   "file_extension": ".py",
   "mimetype": "text/x-python",
   "name": "python",
   "nbconvert_exporter": "python",
   "pygments_lexer": "ipython3",
   "version": "3.7.1"
  }
 },
 "nbformat": 4,
 "nbformat_minor": 2
}
