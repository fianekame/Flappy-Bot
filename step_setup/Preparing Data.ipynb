{
 "cells": [
  {
   "cell_type": "markdown",
   "metadata": {},
   "source": [
    "## Step 1 - Preparing Data \n"
   ]
  },
  {
   "cell_type": "markdown",
   "metadata": {},
   "source": [
    "##### Step Info!\n",
    "\n",
    "  - Pada Step Ini Adalah Penyiapan Data Untuk Disimpan Dalam Bentuk Cell (Array)\n",
    "  - Hal Ini Dilakukan Untuk Mempermudah Pengolahan Data Pada Step Selanjutnya"
   ]
  },
  {
   "cell_type": "code",
   "execution_count": 1,
   "metadata": {},
   "outputs": [
    {
     "name": "stderr",
     "output_type": "stream",
     "text": [
      "Using TensorFlow backend.\n"
     ]
    }
   ],
   "source": [
    "\"\"\" Importing Lib Yang Dibutuhkan \"\"\"\n",
    "\n",
    "import cv2\n",
    "import numpy as np\n",
    "from matplotlib import pyplot as plt\n",
    "from keras.utils import to_categorical"
   ]
  },
  {
   "cell_type": "markdown",
   "metadata": {},
   "source": [
    "##### Step Info!\n",
    "\n",
    "  - Menyiapkan Target Dari Target Data (Y Data)\n",
    "  - **ActionFor5000Data.npy** berada pada folder initial data, file ini memiliki struktur array 1 dimensi yang merepresentasikan tiap target dari file citra awal yang ada pada folder **logs_bird**\n",
    "  - Contoh DataTarget = [0,1,0,0] yang kemudian di proses dengan **One_Hot_Encoding** untuk menghasilkan DataOneHot = [[1,0],[0,1],[1,0],[1,0]]"
   ]
  },
  {
   "cell_type": "code",
   "execution_count": null,
   "metadata": {},
   "outputs": [],
   "source": [
    "\"\"\" Change To OneHot Encoding And Save As New One Hot Action\"\"\"\n",
    "\n",
    "action = np.load(\"initial_data/ActionFor5000Data.npy\")\n",
    "actonehot = to_categorical(action)\n",
    "np.save(\"DataY\",np.array(actonehot))\n",
    "\n",
    "\"\"\" End Step \"\"\"\n"
   ]
  },
  {
   "cell_type": "code",
   "execution_count": null,
   "metadata": {},
   "outputs": [],
   "source": []
  }
 ],
 "metadata": {
  "kernelspec": {
   "display_name": "Python 3",
   "language": "python",
   "name": "python3"
  },
  "language_info": {
   "codemirror_mode": {
    "name": "ipython",
    "version": 3
   },
   "file_extension": ".py",
   "mimetype": "text/x-python",
   "name": "python",
   "nbconvert_exporter": "python",
   "pygments_lexer": "ipython3",
   "version": "3.7.3"
  }
 },
 "nbformat": 4,
 "nbformat_minor": 2
}
