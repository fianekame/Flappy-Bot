{
 "cells": [
  {
   "cell_type": "code",
   "execution_count": 1,
   "metadata": {},
   "outputs": [
    {
     "name": "stderr",
     "output_type": "stream",
     "text": [
      "Using TensorFlow backend.\n"
     ]
    }
   ],
   "source": [
    "\"\"\" Importing Lib Yang Dibutuhkan \"\"\"\n",
    "\n",
    "import cv2\n",
    "import numpy as np\n",
    "from matplotlib import pyplot as plt\n"
   ]
  },
  {
   "cell_type": "code",
   "execution_count": 3,
   "metadata": {},
   "outputs": [
    {
     "name": "stdout",
     "output_type": "stream",
     "text": [
      "Size Before Staking:\n",
      " (80, 80)\n",
      "Size After  Staking :\n",
      " (80, 80, 4)\n"
     ]
    },
    {
     "data": {
      "text/plain": [
       "' End For Sample Staking '"
      ]
     },
     "execution_count": 3,
     "metadata": {},
     "output_type": "execute_result"
    }
   ],
   "source": [
    "# Skimage\n",
    "\"\"\" Get Sample For Staking \"\"\"\n",
    "\n",
    "samplefile = \"../logs_bird/sample.png\";\n",
    "x_t = cv2.imread(samplefile, cv2.IMREAD_COLOR)\n",
    "x_t = cv2.cvtColor(cv2.resize(x_t, (80, 80)), cv2.COLOR_BGR2GRAY)\n",
    "ret, x_t = cv2.threshold(x_t,1,255,cv2.THRESH_BINARY)\n",
    "s_t = np.stack((x_t, x_t, x_t, x_t), axis=2)\n",
    "\n",
    "print('Size Before Staking:\\n', x_t.shape)\n",
    "print('Size After  Staking :\\n', s_t.shape)\n",
    "\n",
    "\"\"\" End For Sample Staking \"\"\""
   ]
  },
  {
   "cell_type": "code",
   "execution_count": 26,
   "metadata": {},
   "outputs": [
    {
     "name": "stdout",
     "output_type": "stream",
     "text": [
      "[[[195 225 115]\n",
      "  [195 225 115]\n",
      "  [196 225 115]\n",
      "  ...\n",
      "  [222 216 149]\n",
      "  [222 216 149]\n",
      "  [222 216 149]]\n",
      "\n",
      " [[195 225 115]\n",
      "  [195 225 115]\n",
      "  [196 225 115]\n",
      "  ...\n",
      "  [222 216 149]\n",
      "  [222 216 149]\n",
      "  [222 216 149]]\n",
      "\n",
      " [[181 211 104]\n",
      "  [181 211 104]\n",
      "  [180 211 104]\n",
      "  ...\n",
      "  [222 216 149]\n",
      "  [222 216 149]\n",
      "  [222 216 149]]\n",
      "\n",
      " ...\n",
      "\n",
      " [[195 225 115]\n",
      "  [195 225 115]\n",
      "  [196 224 115]\n",
      "  ...\n",
      "  [222 216 149]\n",
      "  [222 216 149]\n",
      "  [222 216 149]]\n",
      "\n",
      " [[209 236 125]\n",
      "  [209 236 125]\n",
      "  [209 237 125]\n",
      "  ...\n",
      "  [222 216 149]\n",
      "  [222 216 149]\n",
      "  [222 216 149]]\n",
      "\n",
      " [[209 236 125]\n",
      "  [209 236 125]\n",
      "  [209 237 125]\n",
      "  ...\n",
      "  [222 216 149]\n",
      "  [222 216 149]\n",
      "  [222 216 149]]]\n"
     ]
    },
    {
     "data": {
      "image/png": "[encoded data removed]",
      "text/plain": [
       "<Figure size 432x288 with 1 Axes>"
      ]
     },
     "metadata": {
      "needs_background": "light"
     },
     "output_type": "display_data"
    }
   ],
   "source": [
    "\"\"\" Mencoba Dengan Data Sample Terhakir \"\"\"\n",
    "foldername = \"../logs_bird/\";\n",
    "filename = foldername+\"frame4999.png\"\n",
    "img = cv2.imread(str(filename), cv2.IMREAD_COLOR)\n",
    "print(img)\n",
    "plt.imshow(img)\n",
    "plt.show()\n"
   ]
  },
  {
   "cell_type": "code",
   "execution_count": 5,
   "metadata": {},
   "outputs": [
    {
     "data": {
      "image/png": "[encoded data removed]",
      "text/plain": [
       "<Figure size 432x288 with 1 Axes>"
      ]
     },
     "metadata": {
      "needs_background": "light"
     },
     "output_type": "display_data"
    }
   ],
   "source": [
    "\"\"\" Mengubah gambar warna menjadi skala abu-abu Dan Croping jadi 80x80\"\"\"\n",
    "x_t1 = cv2.cvtColor(cv2.resize(img, (80, 80)), cv2.COLOR_BGR2GRAY)\n",
    "plt.imshow(x_t1, cmap='gray')\n",
    "plt.show()"
   ]
  },
  {
   "cell_type": "code",
   "execution_count": 6,
   "metadata": {},
   "outputs": [
    {
     "data": {
      "image/png": "[encoded data removed]",
      "text/plain": [
       "<Figure size 432x288 with 1 Axes>"
      ]
     },
     "metadata": {
      "needs_background": "light"
     },
     "output_type": "display_data"
    },
    {
     "data": {
      "text/plain": [
       "(80, 80)"
      ]
     },
     "execution_count": 6,
     "metadata": {},
     "output_type": "execute_result"
    }
   ],
   "source": [
    "\"\"\" Merubah Menjadi Biner Sebelum Proses Staking \"\"\"\n",
    "ret, x_t1 = cv2.threshold(x_t1, 1, 255, cv2.THRESH_BINARY)\n",
    "plt.imshow(x_t1, cmap='gray')\n",
    "plt.show()\n",
    "x_t1.shape"
   ]
  },
  {
   "cell_type": "code",
   "execution_count": 7,
   "metadata": {},
   "outputs": [
    {
     "data": {
      "image/png": "[encoded data removed]",
      "text/plain": [
       "<Figure size 432x288 with 1 Axes>"
      ]
     },
     "metadata": {
      "needs_background": "light"
     },
     "output_type": "display_data"
    }
   ],
   "source": [
    "\"\"\" Proses Staking 4 Frame \"\"\"\n",
    "x_t1 = np.reshape(x_t1, (80, 80, 1))\n",
    "s_t1 = np.append(x_t1, s_t[:, :, :3], axis=2)\n",
    "plt.imshow(s_t1)\n",
    "plt.show()"
   ]
  },
  {
   "cell_type": "code",
   "execution_count": null,
   "metadata": {},
   "outputs": [],
   "source": [
    "#End For Cv2 Open Cv"
   ]
  },
  {
   "cell_type": "code",
   "execution_count": 13,
   "metadata": {},
   "outputs": [],
   "source": [
    "import skimage as skimage\n",
    "from skimage import transform, color, exposure\n",
    "from skimage.transform import rotate\n",
    "from skimage.io import imsave, imread"
   ]
  },
  {
   "cell_type": "code",
   "execution_count": 14,
   "metadata": {},
   "outputs": [
    {
     "name": "stdout",
     "output_type": "stream",
     "text": [
      "Size Before Staking:\n",
      " (80, 80)\n",
      "Size After  Staking :\n",
      " (80, 80, 4)\n"
     ]
    },
    {
     "data": {
      "text/plain": [
       "' End For Sample Staking '"
      ]
     },
     "execution_count": 14,
     "metadata": {},
     "output_type": "execute_result"
    }
   ],
   "source": [
    "# Skimage\n",
    "\"\"\" Get Sample For Staking \"\"\"\n",
    "\n",
    "samplefile = \"../logs_bird/sample.png\";\n",
    "x_t = imread(samplefile)\n",
    "x_t = skimage.color.rgb2gray(x_t)\n",
    "x_t = skimage.transform.resize(x_t,(80,80))\n",
    "x_t = skimage.exposure.rescale_intensity(x_t,out_range=(0,255))\n",
    "x_t = x_t / 255.0\n",
    "s_t = np.stack((x_t, x_t, x_t, x_t), axis=2)\n",
    "\n",
    "print('Size Before Staking:\\n', x_t.shape)\n",
    "print('Size After  Staking :\\n', s_t.shape)\n",
    "\n",
    "\"\"\" End For Sample Staking \"\"\""
   ]
  },
  {
   "cell_type": "code",
   "execution_count": 32,
   "metadata": {},
   "outputs": [
    {
     "name": "stdout",
     "output_type": "stream",
     "text": [
      "[[[115 225 195]\n",
      "  [115 225 195]\n",
      "  [115 225 196]\n",
      "  ...\n",
      "  [149 216 222]\n",
      "  [149 216 222]\n",
      "  [149 216 222]]\n",
      "\n",
      " [[115 225 195]\n",
      "  [115 225 195]\n",
      "  [115 225 196]\n",
      "  ...\n",
      "  [149 216 222]\n",
      "  [149 216 222]\n",
      "  [149 216 222]]\n",
      "\n",
      " [[104 211 181]\n",
      "  [104 211 181]\n",
      "  [104 211 180]\n",
      "  ...\n",
      "  [149 216 222]\n",
      "  [149 216 222]\n",
      "  [149 216 222]]\n",
      "\n",
      " ...\n",
      "\n",
      " [[115 225 195]\n",
      "  [115 225 195]\n",
      "  [115 224 196]\n",
      "  ...\n",
      "  [149 216 222]\n",
      "  [149 216 222]\n",
      "  [149 216 222]]\n",
      "\n",
      " [[125 236 209]\n",
      "  [125 236 209]\n",
      "  [125 237 209]\n",
      "  ...\n",
      "  [149 216 222]\n",
      "  [149 216 222]\n",
      "  [149 216 222]]\n",
      "\n",
      " [[125 236 209]\n",
      "  [125 236 209]\n",
      "  [125 237 209]\n",
      "  ...\n",
      "  [149 216 222]\n",
      "  [149 216 222]\n",
      "  [149 216 222]]]\n"
     ]
    },
    {
     "data": {
      "image/png": "[encoded data removed]",
      "text/plain": [
       "<Figure size 432x288 with 1 Axes>"
      ]
     },
     "metadata": {
      "needs_background": "light"
     },
     "output_type": "display_data"
    }
   ],
   "source": [
    "\"\"\" Mencoba Dengan Data Sample Terhakir \"\"\"\n",
    "foldername = \"../logs_bird/\";\n",
    "filename = foldername+\"frame4999.png\"\n",
    "img1 = imread(filename)\n",
    "print(img1)\n",
    "plt.imshow(img1)\n",
    "plt.show()"
   ]
  },
  {
   "cell_type": "code",
   "execution_count": 29,
   "metadata": {},
   "outputs": [
    {
     "data": {
      "image/png": "[encoded data removed]",
      "text/plain": [
       "<Figure size 432x288 with 1 Axes>"
      ]
     },
     "metadata": {
      "needs_background": "light"
     },
     "output_type": "display_data"
    }
   ],
   "source": [
    "\"\"\" Mengubah gambar warna menjadi skala abu-abu Dan Croping jadi 80x80\"\"\"\n",
    "x_t1 = skimage.color.rgb2gray(img1)\n",
    "x_t1 = skimage.transform.resize(x_t1,(80,80))\n",
    "plt.imshow(x_t1, cmap='gray')\n",
    "plt.show()"
   ]
  },
  {
   "cell_type": "code",
   "execution_count": 36,
   "metadata": {},
   "outputs": [
    {
     "data": {
      "text/plain": [
       "True"
      ]
     },
     "execution_count": 36,
     "metadata": {},
     "output_type": "execute_result"
    }
   ],
   "source": []
  },
  {
   "cell_type": "code",
   "execution_count": null,
   "metadata": {},
   "outputs": [],
   "source": []
  },
  {
   "cell_type": "code",
   "execution_count": null,
   "metadata": {},
   "outputs": [],
   "source": []
  }
 ],
 "metadata": {
  "kernelspec": {
   "display_name": "Python 3",
   "language": "python",
   "name": "python3"
  },
  "language_info": {
   "codemirror_mode": {
    "name": "ipython",
    "version": 3
   },
   "file_extension": ".py",
   "mimetype": "text/x-python",
   "name": "python",
   "nbconvert_exporter": "python",
   "pygments_lexer": "ipython3",
   "version": "3.7.3"
  }
 },
 "nbformat": 4,
 "nbformat_minor": 2
}
