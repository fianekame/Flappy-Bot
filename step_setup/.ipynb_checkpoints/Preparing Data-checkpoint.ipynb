{
 "cells": [
  {
   "cell_type": "markdown",
   "metadata": {},
   "source": [
    "## Step 1 - Preparing Data \n"
   ]
  },
  {
   "cell_type": "markdown",
   "metadata": {},
   "source": [
    "##### Step Info!\n",
    "\n",
    "  - Pada Step Ini Adalah Penyiapan Data Untuk Disimpan Dalam Bentuk Cell (Array)\n",
    "  - Hal Ini Dilakukan Untuk Mempermudah Pengolahan Data Pada Step Selanjutnya"
   ]
  },
  {
   "cell_type": "code",
   "execution_count": 59,
   "metadata": {},
   "outputs": [],
   "source": [
    "\"\"\" Importing Lib Yang Dibutuhkan \"\"\"\n",
    "\n",
    "import numpy as np\n",
    "import skimage as skimage\n",
    "import collections\n",
    "\n",
    "from matplotlib import pyplot as plt\n",
    "from skimage import transform, color, exposure\n",
    "from skimage.io import imsave, imread, imshow\n",
    "from keras.utils import to_categorical\n"
   ]
  },
  {
   "cell_type": "markdown",
   "metadata": {},
   "source": [
    "##### Step Info!\n",
    "\n",
    "  - Menyiapkan Target Dari Target Data (Y Data)\n",
    "  - **ActionFor5000Data.npy** berada pada folder initial data, file ini memiliki struktur array 1 dimensi yang merepresentasikan tiap target dari file citra awal yang ada pada folder **logs_bird**\n",
    "  - Contoh DataTarget = [0,1,0,0] yang kemudian di proses dengan **One_Hot_Encoding** untuk menghasilkan DataOneHot = [[1,0],[0,1],[1,0],[1,0]]"
   ]
  },
  {
   "cell_type": "code",
   "execution_count": 7,
   "metadata": {},
   "outputs": [
    {
     "name": "stdout",
     "output_type": "stream",
     "text": [
      "Original label:\n",
      " [0 1 1 0]\n",
      "After conversion to one-hot:\n",
      " [[1. 0.]\n",
      " [0. 1.]\n",
      " [0. 1.]\n",
      " [1. 0.]]\n"
     ]
    },
    {
     "data": {
      "text/plain": [
       "' Akhir Konversi '"
      ]
     },
     "execution_count": 7,
     "metadata": {},
     "output_type": "execute_result"
    }
   ],
   "source": [
    "\"\"\" Encoding Dan Simpan File Untuk Action One Hot Baru \"\"\"\n",
    "\n",
    "action = np.load(\"../initial_data/ActionFor5000Data.npy\")\n",
    "actonehot = to_categorical(action)\n",
    "np.save(\"../initial_data/DataY\",np.array(actonehot))\n",
    "\n",
    "print('Original label:\\n', action[5:9])\n",
    "print('After conversion to one-hot:\\n', actonehot[5:9])\n",
    "\n",
    "\"\"\" Akhir Konversi \"\"\"\n"
   ]
  },
  {
   "cell_type": "markdown",
   "metadata": {},
   "source": [
    "##### Step Info!\n",
    "\n",
    "  - Membuat Template Staking Dari Gambar Sample Pada Folder\n",
    "  - Mengapa saya harus menumpuk 4 frame bersamaan? Ini adalah salah satu cara bagi model untuk dapat menyimpulkan informasi posisi burung."
   ]
  },
  {
   "cell_type": "code",
   "execution_count": 90,
   "metadata": {},
   "outputs": [
    {
     "name": "stdout",
     "output_type": "stream",
     "text": [
      "Size Before Staking:\n",
      " (80, 80)\n",
      "Size After  Staking :\n",
      " (80, 80, 4)\n"
     ]
    },
    {
     "data": {
      "text/plain": [
       "' End For Sample Staking '"
      ]
     },
     "execution_count": 90,
     "metadata": {},
     "output_type": "execute_result"
    }
   ],
   "source": [
    "# Skimage\n",
    "\"\"\" Get Sample For Staking \"\"\"\n",
    "\n",
    "samplefile = \"../images/frame0.png\";\n",
    "x_t = imread(samplefile)\n",
    "x_t = skimage.color.rgb2gray(x_t)\n",
    "x_t = skimage.transform.resize(x_t,(80,80))\n",
    "x_t = skimage.exposure.rescale_intensity(x_t,out_range=(0,255))\n",
    "x_t = x_t / 255.0\n",
    "s_t = np.stack((x_t, x_t, x_t, x_t), axis=2)\n",
    "s_t = s_t.reshape(1, s_t.shape[0], s_t.shape[1], s_t.shape[2])  #1*80*80*4\n",
    "\n",
    "print('Size Before Staking:\\n', x_t.shape)\n",
    "print('Size After  Staking :\\n', s_t.shape)\n",
    "\n",
    "\"\"\" End For Sample Staking \"\"\""
   ]
  },
  {
   "cell_type": "markdown",
   "metadata": {},
   "source": [
    "##### Step Info!\n",
    "\n",
    "  - Pertama-tama mengubah gambar warna menjadi skala abu-abu\n",
    "  - Memotong ukuran gambar menjadi 80x80 piksel\n",
    "  - Menumpuk 4 frame bersama sebelum diproses pada CNN"
   ]
  },
  {
   "cell_type": "code",
   "execution_count": 25,
   "metadata": {},
   "outputs": [
    {
     "data": {
      "text/plain": [
       "' End For Preparing Data '"
      ]
     },
     "execution_count": 25,
     "metadata": {},
     "output_type": "execute_result"
    }
   ],
   "source": [
    "\"\"\" Preparing Data \"\"\"\n",
    "\n",
    "DataX = []\n",
    "for i in range(5000):\n",
    "    foldername = \"../logs_bird/\";\n",
    "    filename = foldername+\"frame\"+str(i)+\".png\"\n",
    "    img = imread(filename)\n",
    "    x_t1 = skimage.color.rgb2gray(img)\n",
    "    x_t1 = skimage.transform.resize(x_t1,(80,80))\n",
    "    x_t1 = skimage.exposure.rescale_intensity(x_t1, out_range=(0, 255))\n",
    "    x_t1 = x_t1 / 255.0\n",
    "    x_t1 = x_t1.reshape(1, x_t1.shape[0], x_t1.shape[1], 1) #1x80x80x1\n",
    "    s_t1 = np.append(x_t1, s_t[:, :, :, :3], axis=3)\n",
    "    \n",
    "    DataX.append(s_t1)\n",
    "np.save(\"../initial_data/DataX\",np.array(DataX))\n",
    "\n",
    "\n",
    "\"\"\" End For Preparing Data \"\"\""
   ]
  },
  {
   "cell_type": "code",
   "execution_count": 11,
   "metadata": {},
   "outputs": [
    {
     "data": {
      "text/plain": [
       "Counter({0: 4653, 1: 347})"
      ]
     },
     "execution_count": 11,
     "metadata": {},
     "output_type": "execute_result"
    }
   ],
   "source": [
    "DataY = np.load(\"../initial_data/ActionFor5000Data.npy\")\n",
    "DataY.shape\n",
    "collections.Counter(DataY)"
   ]
  },
  {
   "cell_type": "markdown",
   "metadata": {},
   "source": [
    "##### Prosess Info!\n",
    "\n",
    "  - Pertama-tama mengubah gambar warna menjadi skala abu-abu\n",
    "  - Memotong ukuran gambar menjadi 80x80 piksel\n",
    "  - Menumpuk 4 frame bersama sebelum diproses pada CNN"
   ]
  },
  {
   "cell_type": "code",
   "execution_count": 104,
   "metadata": {},
   "outputs": [
    {
     "name": "stdout",
     "output_type": "stream",
     "text": [
      "(288, 512, 3)\n"
     ]
    },
    {
     "data": {
      "image/png": "[encoded data removed]",
      "text/plain": [
       "<Figure size 432x288 with 1 Axes>"
      ]
     },
     "metadata": {
      "needs_background": "light"
     },
     "output_type": "display_data"
    }
   ],
   "source": [
    "\"\"\" Mencoba Dengan Data Sample Terhakir \"\"\"\n",
    "filename = \"../images/frame1.png\"\n",
    "img = imread(filename)\n",
    "print(\"Ukuran : \", img.shape)\n",
    "plt.imshow(img)\n",
    "plt.show()\n"
   ]
  },
  {
   "cell_type": "code",
   "execution_count": 105,
   "metadata": {},
   "outputs": [
    {
     "name": "stdout",
     "output_type": "stream",
     "text": [
      "(80, 80)\n"
     ]
    },
    {
     "data": {
      "image/png": "[encoded data removed]",
      "text/plain": [
       "<Figure size 432x288 with 1 Axes>"
      ]
     },
     "metadata": {
      "needs_background": "light"
     },
     "output_type": "display_data"
    }
   ],
   "source": [
    "\"\"\" Mengubah gambar warna menjadi skala abu-abu Dan Resizing jadi 80x80\"\"\"\n",
    "x_t1 = skimage.color.rgb2gray(img)\n",
    "x_t1 = skimage.transform.resize(x_t1,(80,80))\n",
    "print(\"Ukuran : \", x_t1.shape)\n",
    "plt.imshow(x_t1, cmap='gray')\n",
    "plt.show()"
   ]
  },
  {
   "cell_type": "code",
   "execution_count": 106,
   "metadata": {},
   "outputs": [
    {
     "name": "stdout",
     "output_type": "stream",
     "text": [
      "(80, 80)\n"
     ]
    },
    {
     "data": {
      "image/png": "[encoded data removed]",
      "text/plain": [
       "<Figure size 432x288 with 1 Axes>"
      ]
     },
     "metadata": {
      "needs_background": "light"
     },
     "output_type": "display_data"
    }
   ],
   "source": [
    "x_t1 = skimage.exposure.rescale_intensity(x_t1,out_range=(0,255))\n",
    "plt.imshow(x_t1, cmap='gray')\n",
    "print(\"Ukuran : \", x_t1.shape)\n",
    "plt.show()"
   ]
  },
  {
   "cell_type": "code",
   "execution_count": 107,
   "metadata": {},
   "outputs": [
    {
     "name": "stdout",
     "output_type": "stream",
     "text": [
      "Before Staking: (80, 80, 1)\n",
      "After Staking: (80, 80, 4)\n"
     ]
    },
    {
     "data": {
      "image/png": "[encoded data removed]",
      "text/plain": [
       "<Figure size 432x288 with 1 Axes>"
      ]
     },
     "metadata": {
      "needs_background": "light"
     },
     "output_type": "display_data"
    }
   ],
   "source": [
    "\"\"\" Proses Staking 4 Frame \"\"\"\n",
    "x_t1 = x_t1 / 255.0\n",
    "x_t1 = x_t1.reshape(x_t1.shape[0], x_t1.shape[1], 1) #1x80x80x1\n",
    "s_t1 = np.append(x_t1, s_t[:, :, :3], axis=2)\n",
    "\n",
    "print(\"Before Staking:\", x_t1.shape)\n",
    "print(\"After Staking:\", s_t1.shape)\n",
    "plt.imshow(s_t1, cmap='gray')\n",
    "plt.show()\n"
   ]
  },
  {
   "cell_type": "code",
   "execution_count": null,
   "metadata": {},
   "outputs": [],
   "source": []
  }
 ],
 "metadata": {
  "kernelspec": {
   "display_name": "Python 3",
   "language": "python",
   "name": "python3"
  },
  "language_info": {
   "codemirror_mode": {
    "name": "ipython",
    "version": 3
   },
   "file_extension": ".py",
   "mimetype": "text/x-python",
   "name": "python",
   "nbconvert_exporter": "python",
   "pygments_lexer": "ipython3",
   "version": "3.7.3"
  }
 },
 "nbformat": 4,
 "nbformat_minor": 2
}
