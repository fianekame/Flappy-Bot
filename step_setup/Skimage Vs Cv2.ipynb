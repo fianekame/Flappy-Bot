{
 "cells": [
  {
   "cell_type": "code",
   "execution_count": 1,
   "metadata": {},
   "outputs": [
    {
     "name": "stderr",
     "output_type": "stream",
     "text": [
      "Using TensorFlow backend.\n"
     ]
    }
   ],
   "source": [
    "\"\"\" Importing Lib Yang Dibutuhkan \"\"\"\n",
    "\n",
    "import cv2\n",
    "import numpy as np\n",
    "from matplotlib import pyplot as plt\n"
   ]
  },
  {
   "cell_type": "code",
   "execution_count": 3,
   "metadata": {},
   "outputs": [
    {
     "name": "stdout",
     "output_type": "stream",
     "text": [
      "Size Before Staking:\n",
      " (80, 80)\n",
      "Size After  Staking :\n",
      " (80, 80, 4)\n"
     ]
    },
    {
     "data": {
      "text/plain": [
       "' End For Sample Staking '"
      ]
     },
     "execution_count": 3,
     "metadata": {},
     "output_type": "execute_result"
    }
   ],
   "source": [
    "# Skimage\n",
    "\"\"\" Get Sample For Staking \"\"\"\n",
    "\n",
    "samplefile = \"../logs_bird/sample.png\";\n",
    "x_t = cv2.imread(samplefile, cv2.IMREAD_COLOR)\n",
    "x_t = cv2.cvtColor(cv2.resize(x_t, (80, 80)), cv2.COLOR_BGR2GRAY)\n",
    "ret, x_t = cv2.threshold(x_t,1,255,cv2.THRESH_BINARY)\n",
    "s_t = np.stack((x_t, x_t, x_t, x_t), axis=2)\n",
    "\n",
    "print('Size Before Staking:\\n', x_t.shape)\n",
    "print('Size After  Staking :\\n', s_t.shape)\n",
    "\n",
    "\"\"\" End For Sample Staking \"\"\""
   ]
  },
  {
   "cell_type": "code",
   "execution_count": 57,
   "metadata": {},
   "outputs": [
    {
     "data": {
      "image/png": "[encoded data removed]",
      "text/plain": [
       "<Figure size 432x288 with 1 Axes>"
      ]
     },
     "metadata": {
      "needs_background": "light"
     },
     "output_type": "display_data"
    }
   ],
   "source": [
    "\"\"\" Mencoba Dengan Data Sample Terhakir \"\"\"\n",
    "foldername = \"../logs_bird/\";\n",
    "filename = foldername+\"frame4999.png\"\n",
    "img = cv2.imread(str(filename), cv2.IMREAD_COLOR)\n",
    "# print(img)\n",
    "plt.imshow(img)\n",
    "plt.show()\n"
   ]
  },
  {
   "cell_type": "code",
   "execution_count": 72,
   "metadata": {},
   "outputs": [
    {
     "data": {
      "image/png": "[encoded data removed]",
      "text/plain": [
       "<Figure size 432x288 with 1 Axes>"
      ]
     },
     "metadata": {
      "needs_background": "light"
     },
     "output_type": "display_data"
    }
   ],
   "source": [
    "\"\"\" Mengubah gambar warna menjadi skala abu-abu Dan Croping jadi 80x80\"\"\"\n",
    "x_t1 = cv2.cvtColor(cv2.resize(img, (80, 80)), cv2.COLOR_BGR2GRAY)\n",
    "plt.imshow(x_t1, cmap='gray')\n",
    "plt.show()"
   ]
  },
  {
   "cell_type": "code",
   "execution_count": 59,
   "metadata": {},
   "outputs": [
    {
     "data": {
      "image/png": "[encoded data removed]",
      "text/plain": [
       "<Figure size 432x288 with 1 Axes>"
      ]
     },
     "metadata": {
      "needs_background": "light"
     },
     "output_type": "display_data"
    },
    {
     "data": {
      "text/plain": [
       "(80, 80)"
      ]
     },
     "execution_count": 59,
     "metadata": {},
     "output_type": "execute_result"
    }
   ],
   "source": [
    "\"\"\" Merubah Menjadi Biner Sebelum Proses Staking \"\"\"\n",
    "ret, x_t1 = cv2.threshold(x_t1, 1, 255, cv2.THRESH_BINARY)\n",
    "# x_t1 = x_t1 / 255.0\n",
    "plt.imshow(x_t1, cmap='gray')\n",
    "plt.show()\n",
    "x_t1.shape"
   ]
  },
  {
   "cell_type": "code",
   "execution_count": 62,
   "metadata": {},
   "outputs": [
    {
     "name": "stderr",
     "output_type": "stream",
     "text": [
      "Clipping input data to the valid range for imshow with RGB data ([0..1] for floats or [0..255] for integers).\n"
     ]
    },
    {
     "data": {
      "image/png": "[encoded data removed]",
      "text/plain": [
       "<Figure size 432x288 with 1 Axes>"
      ]
     },
     "metadata": {
      "needs_background": "light"
     },
     "output_type": "display_data"
    }
   ],
   "source": [
    "\"\"\" Proses Staking 4 Frame \"\"\"\n",
    "x_t1 = np.reshape(x_t1, (80, 80, 1))\n",
    "s_t1 = np.append(x_t1, s_t[:, :, :3], axis=2)\n",
    "plt.imshow(s_t1)\n",
    "plt.show()"
   ]
  },
  {
   "cell_type": "code",
   "execution_count": null,
   "metadata": {},
   "outputs": [],
   "source": [
    "#End For Cv2 Open Cv"
   ]
  },
  {
   "cell_type": "code",
   "execution_count": 13,
   "metadata": {},
   "outputs": [],
   "source": [
    "import skimage as skimage\n",
    "from skimage import transform, color, exposure\n",
    "from skimage.transform import rotate\n",
    "from skimage.io import imsave, imread"
   ]
  },
  {
   "cell_type": "code",
   "execution_count": 94,
   "metadata": {},
   "outputs": [
    {
     "name": "stdout",
     "output_type": "stream",
     "text": [
      "Size Before Staking:\n",
      " (80, 80)\n",
      "Size After  Staking :\n",
      " (1, 80, 80, 4)\n"
     ]
    },
    {
     "data": {
      "text/plain": [
       "' End For Sample Staking '"
      ]
     },
     "execution_count": 94,
     "metadata": {},
     "output_type": "execute_result"
    }
   ],
   "source": [
    "# Skimage\n",
    "\"\"\" Get Sample For Staking \"\"\"\n",
    "\n",
    "samplefile = \"../logs_bird/sample.png\";\n",
    "x_t = imread(samplefile)\n",
    "x_t = skimage.color.rgb2gray(x_t)\n",
    "x_t = skimage.transform.resize(x_t,(80,80))\n",
    "x_t = skimage.exposure.rescale_intensity(x_t,out_range=(0,255))\n",
    "x_t = x_t / 255.0\n",
    "s_t = np.stack((x_t, x_t, x_t, x_t), axis=2)\n",
    "s_t = s_t.reshape(1, s_t.shape[0], s_t.shape[1], s_t.shape[2])  #1*80*80*4\n",
    "\n",
    "print('Size Before Staking:\\n', x_t.shape)\n",
    "print('Size After  Staking :\\n', s_t.shape)\n",
    "\n",
    "\"\"\" End For Sample Staking \"\"\""
   ]
  },
  {
   "cell_type": "code",
   "execution_count": 95,
   "metadata": {},
   "outputs": [
    {
     "data": {
      "image/png": "[encoded data removed]",
      "text/plain": [
       "<Figure size 432x288 with 1 Axes>"
      ]
     },
     "metadata": {
      "needs_background": "light"
     },
     "output_type": "display_data"
    }
   ],
   "source": [
    "\"\"\" Mencoba Dengan Data Sample Terhakir \"\"\"\n",
    "foldername = \"../logs_bird/\";\n",
    "filename = foldername+\"frame4999.png\"\n",
    "img1 = imread(filename)\n",
    "# print(img1)\n",
    "plt.imshow(img1)\n",
    "plt.show()"
   ]
  },
  {
   "cell_type": "code",
   "execution_count": 98,
   "metadata": {},
   "outputs": [
    {
     "name": "stdout",
     "output_type": "stream",
     "text": [
      "[[0.75551231 0.7559178  0.7555981  ... 0.79292196 0.79292196 0.79292196]\n",
      " [0.66662286 0.66699621 0.66712829 ... 0.79292196 0.79292196 0.79292196]\n",
      " [0.50377431 0.50362661 0.50410524 ... 0.79292196 0.79292196 0.79292196]\n",
      " ...\n",
      " [0.62454635 0.62406317 0.62469379 ... 0.79292196 0.79292196 0.79292196]\n",
      " [0.72085364 0.72079916 0.71972606 ... 0.79292196 0.79292196 0.79292196]\n",
      " [0.80311191 0.80224685 0.8024436  ... 0.79292196 0.79292196 0.79292196]]\n"
     ]
    },
    {
     "data": {
      "image/png": "[encoded data removed]",
      "text/plain": [
       "<Figure size 432x288 with 1 Axes>"
      ]
     },
     "metadata": {
      "needs_background": "light"
     },
     "output_type": "display_data"
    }
   ],
   "source": [
    "\"\"\" Mengubah gambar warna menjadi skala abu-abu Dan Croping jadi 80x80\"\"\"\n",
    "x_t2 = skimage.color.rgb2gray(img1)\n",
    "x_t2 = skimage.transform.resize(x_t2,(80,80))\n",
    "print(x_t2)\n",
    "plt.imshow(x_t2, cmap='gray')\n",
    "plt.show()"
   ]
  },
  {
   "cell_type": "code",
   "execution_count": 102,
   "metadata": {},
   "outputs": [
    {
     "data": {
      "image/png": "[encoded data removed]",
      "text/plain": [
       "<Figure size 432x288 with 1 Axes>"
      ]
     },
     "metadata": {
      "needs_background": "light"
     },
     "output_type": "display_data"
    }
   ],
   "source": [
    "\"\"\" Merubah Menjadi Biner Sebelum Proses Staking \"\"\"\n",
    "x_t2 = skimage.exposure.rescale_intensity(x_t2,out_range=(0,255))\n",
    "plt.imshow(x_t2, cmap='gray')\n",
    "# print(x_t2)\n",
    "plt.show()"
   ]
  },
  {
   "cell_type": "code",
   "execution_count": 103,
   "metadata": {},
   "outputs": [
    {
     "data": {
      "image/png": "[encoded data removed]",
      "text/plain": [
       "<Figure size 432x288 with 1 Axes>"
      ]
     },
     "metadata": {
      "needs_background": "light"
     },
     "output_type": "display_data"
    }
   ],
   "source": [
    "x_t2 = x_t2 / 255.0\n",
    "s_t2 = np.stack((x_t2, x_t2, x_t2, x_t2), axis=2)\n",
    "plt.imshow(s_t2)\n",
    "plt.show()"
   ]
  },
  {
   "cell_type": "code",
   "execution_count": 105,
   "metadata": {},
   "outputs": [
    {
     "data": {
      "text/plain": [
       "array([[[[0.        , 0.        , 0.        , 0.        ],\n",
       "         [0.        , 0.        , 0.        , 0.        ],\n",
       "         [0.        , 0.        , 0.        , 0.        ],\n",
       "         ...,\n",
       "         [0.96795443, 0.96795443, 0.96795443, 0.96795443],\n",
       "         [0.96795443, 0.96795443, 0.96795443, 0.96795443],\n",
       "         [0.96795443, 0.96795443, 0.96795443, 0.96795443]],\n",
       "\n",
       "        [[0.        , 0.        , 0.        , 0.        ],\n",
       "         [0.        , 0.        , 0.        , 0.        ],\n",
       "         [0.        , 0.        , 0.        , 0.        ],\n",
       "         ...,\n",
       "         [0.96795443, 0.96795443, 0.96795443, 0.96795443],\n",
       "         [0.96795443, 0.96795443, 0.96795443, 0.96795443],\n",
       "         [0.96795443, 0.96795443, 0.96795443, 0.96795443]],\n",
       "\n",
       "        [[0.        , 0.        , 0.        , 0.        ],\n",
       "         [0.        , 0.        , 0.        , 0.        ],\n",
       "         [0.        , 0.        , 0.        , 0.        ],\n",
       "         ...,\n",
       "         [0.96795443, 0.96795443, 0.96795443, 0.96795443],\n",
       "         [0.96795443, 0.96795443, 0.96795443, 0.96795443],\n",
       "         [0.96795443, 0.96795443, 0.96795443, 0.96795443]],\n",
       "\n",
       "        ...,\n",
       "\n",
       "        [[0.        , 0.        , 0.        , 0.        ],\n",
       "         [0.        , 0.        , 0.        , 0.        ],\n",
       "         [0.        , 0.        , 0.        , 0.        ],\n",
       "         ...,\n",
       "         [0.96795443, 0.96795443, 0.96795443, 0.96795443],\n",
       "         [0.96795443, 0.96795443, 0.96795443, 0.96795443],\n",
       "         [0.96795443, 0.96795443, 0.96795443, 0.96795443]],\n",
       "\n",
       "        [[0.00147314, 0.00147314, 0.00147314, 0.00147314],\n",
       "         [0.00147314, 0.00147314, 0.00147314, 0.00147314],\n",
       "         [0.00147314, 0.00147314, 0.00147314, 0.00147314],\n",
       "         ...,\n",
       "         [0.96795443, 0.96795443, 0.96795443, 0.96795443],\n",
       "         [0.96795443, 0.96795443, 0.96795443, 0.96795443],\n",
       "         [0.96795443, 0.96795443, 0.96795443, 0.96795443]],\n",
       "\n",
       "        [[0.1592515 , 0.1592515 , 0.1592515 , 0.1592515 ],\n",
       "         [0.1592515 , 0.1592515 , 0.1592515 , 0.1592515 ],\n",
       "         [0.1592515 , 0.1592515 , 0.1592515 , 0.1592515 ],\n",
       "         ...,\n",
       "         [0.96795443, 0.96795443, 0.96795443, 0.96795443],\n",
       "         [0.96795443, 0.96795443, 0.96795443, 0.96795443],\n",
       "         [0.96795443, 0.96795443, 0.96795443, 0.96795443]]]])"
      ]
     },
     "execution_count": 105,
     "metadata": {},
     "output_type": "execute_result"
    }
   ],
   "source": [
    "s_t"
   ]
  }
 ],
 "metadata": {
  "kernelspec": {
   "display_name": "Python 3",
   "language": "python",
   "name": "python3"
  },
  "language_info": {
   "codemirror_mode": {
    "name": "ipython",
    "version": 3
   },
   "file_extension": ".py",
   "mimetype": "text/x-python",
   "name": "python",
   "nbconvert_exporter": "python",
   "pygments_lexer": "ipython3",
   "version": "3.7.3"
  }
 },
 "nbformat": 4,
 "nbformat_minor": 2
}
